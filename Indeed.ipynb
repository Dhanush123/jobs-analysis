{
 "cells": [
  {
   "cell_type": "code",
   "execution_count": 18,
   "metadata": {},
   "outputs": [],
   "source": [
    "from bs4 import BeautifulSoup\n",
    "import requests\n",
    "import webbrowser\n",
    "import datetime"
   ]
  },
  {
   "cell_type": "code",
   "execution_count": 19,
   "metadata": {},
   "outputs": [],
   "source": [
    "#get MLE data\n",
    "url = \"https://www.indeed.com/jobs\"\n",
    "querystring = {\"q\":\"machine+learning+engineer\",\"l\":\"San+Francisco+Bay+Area,+CA\",\"explvl\":\"entry_level\"}\n",
    "response = requests.request(\"GET\", url, params=querystring)\n",
    "now = datetime.datetime.now()\n",
    "mle_doc=\"indeed/mle_\"+now.strftime(\"%Y-%m-%d_%H.%M\")+\".html\"\n",
    "#https://stackoverflow.com/questions/31126596/saving-response-from-requests-to-file\n",
    "with open(mle_doc, mode=\"wb+\") as localfile:\n",
    "    localfile.write(response.content)"
   ]
  },
  {
   "cell_type": "code",
   "execution_count": 20,
   "metadata": {},
   "outputs": [
    {
     "data": {
      "text/plain": [
       "(9,\n",
       " ['https://www.indeed.com/rc/clk?jk=d933cd5f42554665&fccid=e3d1e9ce06e668e2&vjs=3',\n",
       "  'https://www.indeed.com/rc/clk?jk=cfaf902153f61df0&fccid=f89deb5a97c7738a&vjs=3',\n",
       "  'https://www.indeed.com/rc/clk?jk=501e9e1b2b7825c2&fccid=1f67744ae4e39ac9&vjs=3',\n",
       "  'https://www.indeed.com/rc/clk?jk=010387cb5bf0ba34&fccid=f89deb5a97c7738a&vjs=3',\n",
       "  'https://www.indeed.com/rc/clk?jk=30ba2304821766d9&fccid=2bbdd3fa4303bfdc&vjs=3',\n",
       "  'https://www.indeed.com/rc/clk?jk=67290fc3fe835c8b&fccid=cdd85c4d445cce0f&vjs=3',\n",
       "  'https://www.indeed.com/rc/clk?jk=41fb91abb2020639&fccid=c037aeb6086309d9&vjs=3',\n",
       "  'https://www.indeed.com/rc/clk?jk=edd094aee9abcb0a&fccid=dd616958bd9ddc12&vjs=3',\n",
       "  'https://www.indeed.com/rc/clk?jk=460159a790d57fb3&fccid=3ef6655314901dcd&vjs=3'])"
      ]
     },
     "execution_count": 20,
     "metadata": {},
     "output_type": "execute_result"
    }
   ],
   "source": [
    "#see MLE data\n",
    "soup = BeautifulSoup(open(mle_doc), \"html.parser\")\n",
    "raw_links = soup.find_all(\"a\",class_=\"turnstileLink\")\n",
    "\n",
    "#other endpoints I found are /pagead and /cmp\n",
    "acceptable_endpoints = [\"rc\"]\n",
    "#https://stackoverflow.com/questions/36300158/python-split-text-after-the-second-occurrence-of-character\n",
    "clickable_links=[\"https://www.indeed.com\"+link[\"href\"] for link in raw_links if link[\"href\"].split(\"/\", 2)[1]in acceptable_endpoints]\n",
    "len(clickable_links),clickable_links"
   ]
  },
  {
   "cell_type": "code",
   "execution_count": null,
   "metadata": {},
   "outputs": [],
   "source": []
  },
  {
   "cell_type": "code",
   "execution_count": null,
   "metadata": {},
   "outputs": [],
   "source": []
  }
 ],
 "metadata": {
  "kernelspec": {
   "display_name": "Python 3",
   "language": "python",
   "name": "python3"
  },
  "language_info": {
   "codemirror_mode": {
    "name": "ipython",
    "version": 3
   },
   "file_extension": ".py",
   "mimetype": "text/x-python",
   "name": "python",
   "nbconvert_exporter": "python",
   "pygments_lexer": "ipython3",
   "version": "3.6.6"
  }
 },
 "nbformat": 4,
 "nbformat_minor": 2
}
